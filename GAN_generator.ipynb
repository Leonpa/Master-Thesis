{
 "cells": [
  {
   "cell_type": "code",
   "execution_count": null,
   "id": "5dc44167-6ffc-4a82-9997-358feae5f851",
   "metadata": {},
   "outputs": [],
   "source": [
    "import torch\n",
    "from torch.utils.data import DataLoader, TensorDataset\n",
    "import torch.optim as optim\n",
    "import torch.nn as nn\n",
    "from models.generator import Generator, GANTrainer\n",
    "from models.neural_rendering import SurrogateModel\n",
    "import numpy as np\n",
    "device = torch.device('cuda' if torch.cuda.is_available() else 'cpu')"
   ]
  },
  {
   "cell_type": "code",
   "execution_count": null,
   "id": "c8de4bd6-a3d0-4f7a-b069-6824675580ef",
   "metadata": {},
   "outputs": [],
   "source": [
    "from deepface import DeepFace  # Hypothetical example; actual usage may vary\n",
    "\n",
    "def load_adapted_deepface():\n",
    "    model = DeepFace.build_model('Facenet')  # Load model; specifics depend on deepface usage\n",
    "    # Adapt the model to your needs here, possibly modifying the output layer\n",
    "    # to output a single scalar value for binary classification\n",
    "    return model\n",
    "\n",
    "discriminator = load_adapted_deepface()"
   ]
  },
  {
   "cell_type": "code",
   "execution_count": null,
   "id": "28f01545-660b-49bf-88c6-2afbbf1745be",
   "metadata": {},
   "outputs": [],
   "source": [
    "generator = Generator(num_emotions=5, hidden_dim=128, output_dim=10).to(device)"
   ]
  },
  {
   "cell_type": "code",
   "execution_count": null,
   "id": "bd61fd95-019c-4d1d-91f5-67b5af8a4d2e",
   "metadata": {},
   "outputs": [],
   "source": [
    "surrogate = SurrogateModel().to(device)"
   ]
  },
  {
   "cell_type": "code",
   "execution_count": null,
   "id": "bfac8e43-f6e9-4013-bbba-ca7d66b6355c",
   "metadata": {},
   "outputs": [],
   "source": [
    "num_samples = 100\n",
    "emotions = torch.randint(0, 5, (num_samples,))  # Random integers for 5 emotion states\n",
    "rig_params = torch.randn(num_samples, 10)  # Random rig parameters as target\n",
    "\n",
    "emotion_labels = torch.nn.functional.one_hot(emotions, num_classes=5).float()\n",
    "\n",
    "# Create a TensorDataset and DataLoader\n",
    "dataset = TensorDataset(emotion_labels, rig_params)\n",
    "dataloader = DataLoader(dataset, batch_size=8, shuffle=True)\n"
   ]
  }
 ],
 "metadata": {
  "kernelspec": {
   "display_name": "Python 3 (ipykernel)",
   "language": "python",
   "name": "python3"
  },
  "language_info": {
   "codemirror_mode": {
    "name": "ipython",
    "version": 3
   },
   "file_extension": ".py",
   "mimetype": "text/x-python",
   "name": "python",
   "nbconvert_exporter": "python",
   "pygments_lexer": "ipython3",
   "version": "3.10.13"
  }
 },
 "nbformat": 4,
 "nbformat_minor": 5
}
