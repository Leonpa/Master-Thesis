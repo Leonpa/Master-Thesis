{
 "cells": [
  {
   "cell_type": "code",
   "execution_count": 1,
   "id": "89bec29c-ee20-4ab1-9411-e4ff7b1f36ab",
   "metadata": {},
   "outputs": [],
   "source": [
    "from deepface import DeepFace\n",
    "import cv2\n",
    "import matplotlib.pyplot as plt\n",
    "import json"
   ]
  },
  {
   "cell_type": "markdown",
   "id": "0ef4d80b-92e2-4ada-bcc8-75464b061ab3",
   "metadata": {},
   "source": [
    "### Neutral / Idle Classification "
   ]
  },
  {
   "cell_type": "code",
   "execution_count": null,
   "id": "15541d0b-14b8-4d02-81f1-d0b2bb267409",
   "metadata": {
    "pycharm": {
     "is_executing": true
    }
   },
   "outputs": [],
   "source": [
    "img_path = \"data/render_trainset/idle.png\"\n",
    "img = cv2.imread(img_path)\n",
    "plt.imshow(img[:, :, ::-1])"
   ]
  },
  {
   "cell_type": "markdown",
   "id": "a8c70c1e-0a42-4ac4-b599-a8f07bebe887",
   "metadata": {},
   "source": [
    "demography = DeepFace.analyze(img_path, actions = ['emotion'], enforce_detection = False)\n",
    "emotion_score = demography[0]['emotion']\n",
    "print(emotion_score)"
   ]
  },
  {
   "cell_type": "markdown",
   "id": "887987aa-fb9a-4868-8870-b51ef0f850c5",
   "metadata": {},
   "source": [
    "Associated Rig Params: \n"
   ]
  },
  {
   "cell_type": "markdown",
   "id": "984cc43e-9894-4f2c-9ed3-7b4e9ab675f8",
   "metadata": {},
   "source": [
    "### Transform 1"
   ]
  },
  {
   "cell_type": "code",
   "execution_count": null,
   "id": "027057d6-978e-4c21-9451-10ad234b8b28",
   "metadata": {
    "pycharm": {
     "is_executing": true
    }
   },
   "outputs": [],
   "source": [
    "img_path = \"data/output_generation/happy.png\"\n",
    "img = cv2.imread(img_path)\n",
    "plt.imshow(img[:, :, ::-1])"
   ]
  },
  {
   "cell_type": "code",
   "execution_count": 3,
   "id": "6dd59e65-d331-4184-9fad-ad33c92a0b81",
   "metadata": {},
   "outputs": [
    {
     "name": "stdout",
     "output_type": "stream",
     "text": [
      "{'angry': 0.032355562651984374, 'disgust': 9.386902224505276e-05, 'fear': 0.14313726609426544, 'happy': 48.55577962925677, 'sad': 10.470276567902975, 'surprise': 0.04578099505978882, 'neutral': 40.752572923591984}\n"
     ]
    }
   ],
   "source": [
    "demography = DeepFace.analyze(img_path, actions = ['emotion'], enforce_detection = False)\n",
    "emotion_score = demography[0]['emotion']\n",
    "print(emotion_score)"
   ]
  },
  {
   "cell_type": "markdown",
   "id": "99ea4473-b7d5-4386-913e-af8527b0f9dd",
   "metadata": {},
   "source": [
    "Associated Rig Params: \n"
   ]
  },
  {
   "cell_type": "markdown",
   "id": "63d42aac-399f-4429-860a-3c8f88f3ac9a",
   "metadata": {},
   "source": [
    "### Transform 2"
   ]
  },
  {
   "cell_type": "code",
   "execution_count": null,
   "id": "0ec2bdc9-9ea8-48d5-8e70-fbe473079eb8",
   "metadata": {
    "pycharm": {
     "is_executing": true
    }
   },
   "outputs": [],
   "source": [
    "img_path = \"data/output_generation/sad.png\"\n",
    "img = cv2.imread(img_path)\n",
    "plt.imshow(img[:, :, ::-1])"
   ]
  },
  {
   "cell_type": "code",
   "execution_count": 7,
   "id": "ae6522c4-0ef0-421a-8bc3-61d02d6ebf36",
   "metadata": {},
   "outputs": [
    {
     "name": "stdout",
     "output_type": "stream",
     "text": [
      "{'angry': 0.5646208766847849, 'disgust': 1.1400204869005393e-05, 'fear': 7.187192887067795, 'happy': 0.24540296290069818, 'sad': 5.955237522721291, 'surprise': 0.037780587445013225, 'neutral': 86.00975275039673}\n"
     ]
    }
   ],
   "source": [
    "demography = DeepFace.analyze(img_path, actions = ['emotion'], enforce_detection = False)\n",
    "emotion_score = demography[0]['emotion']\n",
    "print(emotion_score)"
   ]
  },
  {
   "cell_type": "code",
   "execution_count": null,
   "id": "ba6d7981-f901-48a9-b306-362940b893e3",
   "metadata": {},
   "outputs": [],
   "source": []
  }
 ],
 "metadata": {
  "kernelspec": {
   "display_name": "Python 3 (ipykernel)",
   "language": "python",
   "name": "python3"
  },
  "language_info": {
   "codemirror_mode": {
    "name": "ipython",
    "version": 3
   },
   "file_extension": ".py",
   "mimetype": "text/x-python",
   "name": "python",
   "nbconvert_exporter": "python",
   "pygments_lexer": "ipython3",
   "version": "3.10.13"
  }
 },
 "nbformat": 4,
 "nbformat_minor": 5
}
